{
 "cells": [
  {
   "cell_type": "code",
   "execution_count": 1,
   "metadata": {},
   "outputs": [],
   "source": [
    "import json"
   ]
  },
  {
   "cell_type": "markdown",
   "metadata": {},
   "source": [
    "### 1.Write a Python program to convert JSON data to Python object"
   ]
  },
  {
   "cell_type": "code",
   "execution_count": 10,
   "metadata": {},
   "outputs": [
    {
     "data": {
      "text/plain": [
       "{'name': 'Yana', 'age': 22, 'city': 'N.Novgorod'}"
      ]
     },
     "execution_count": 10,
     "metadata": {},
     "output_type": "execute_result"
    }
   ],
   "source": [
    "my_json = '{\"name\": \"Yana\", \"age\": 22, \"city\": \"N.Novgorod\"}'\n",
    "python_object = json.loads(my_json)\n",
    "python_object"
   ]
  },
  {
   "cell_type": "markdown",
   "metadata": {},
   "source": [
    "### 2.Write a Python program to convert Python object to JSON data"
   ]
  },
  {
   "cell_type": "code",
   "execution_count": 11,
   "metadata": {},
   "outputs": [
    {
     "data": {
      "text/plain": [
       "'{\"name\": \"Yana\", \"age\": 22, \"city\": \"N.Novgorod\"}'"
      ]
     },
     "execution_count": 11,
     "metadata": {},
     "output_type": "execute_result"
    }
   ],
   "source": [
    "my_json = json.dumps(python_object)\n",
    "my_json"
   ]
  },
  {
   "cell_type": "markdown",
   "metadata": {},
   "source": [
    "###  3.Write a Python program to convert Python objects into JSON strings. Print all the values."
   ]
  },
  {
   "cell_type": "code",
   "execution_count": 5,
   "metadata": {},
   "outputs": [
    {
     "data": {
      "text/plain": [
       "'{\"name\": \"Yana\", \"age\": 22, \"city\": \"N.Novgorod\"}'"
      ]
     },
     "execution_count": 5,
     "metadata": {},
     "output_type": "execute_result"
    }
   ],
   "source": [
    "my_string = json.dumps(python_object)\n",
    "my_string"
   ]
  },
  {
   "cell_type": "markdown",
   "metadata": {},
   "source": [
    "### 4.Write a Python program to convert Python dictionary object (sort by key) to JSON data. Print the object members with indent level 4."
   ]
  },
  {
   "cell_type": "code",
   "execution_count": 8,
   "metadata": {},
   "outputs": [
    {
     "data": {
      "text/plain": [
       "'{\\n    \"age\": 4,\\n    \"name\": \"Mars\",\\n    \"who\": \"my_cat\"\\n}'"
      ]
     },
     "execution_count": 8,
     "metadata": {},
     "output_type": "execute_result"
    }
   ],
   "source": [
    "my_dict = {\"age\": 4, \"who\": \"my_cat\", \"name\": \"Mars\"}\n",
    "json.dumps(my_dict, sort_keys=True, indent=4)"
   ]
  },
  {
   "cell_type": "markdown",
   "metadata": {},
   "source": [
    "### 5.Write a Python program to convert JSON encoded data into Python objects."
   ]
  },
  {
   "cell_type": "code",
   "execution_count": 13,
   "metadata": {},
   "outputs": [
    {
     "data": {
      "text/plain": [
       "{'name': 'Yana', 'age': 22, 'city': 'N.Novgorod'}"
      ]
     },
     "execution_count": 13,
     "metadata": {},
     "output_type": "execute_result"
    }
   ],
   "source": [
    "my_json = '{\"name\": \"Yana\", \"age\": 22, \"city\": \"N.Novgorod\"}'\n",
    "python_object = json.loads(my_json)\n",
    "python_object"
   ]
  },
  {
   "cell_type": "markdown",
   "metadata": {},
   "source": [
    "### 6.Write a Python program to create a new JSON file from an existing JSON file."
   ]
  },
  {
   "cell_type": "code",
   "execution_count": 16,
   "metadata": {},
   "outputs": [],
   "source": [
    "with open('my_json.json', 'r') as f:\n",
    "        data = json.load(f)\n",
    "with open('my_new_json.json', 'w') as f:\n",
    "        json.dump(data, f, indent=4)"
   ]
  },
  {
   "cell_type": "markdown",
   "metadata": {},
   "source": [
    "### 7.Write a Python program to check whether an instance is complex or not."
   ]
  },
  {
   "cell_type": "code",
   "execution_count": 45,
   "metadata": {},
   "outputs": [
    {
     "name": "stdout",
     "output_type": "stream",
     "text": [
      "[2.0, 3.0]\n"
     ]
    }
   ],
   "source": [
    "\n",
    "def encode_complex(object):\n",
    "    if isinstance(object, complex):\n",
    "        return [object.real, object.imag]\n",
    "    raise TypeError(repr(object) + \" is not JSON serialized\")\n",
    "\n",
    "complex_obj = json.dumps(2 + 3j, default=encode_complex)\n",
    "print(complex_obj)  "
   ]
  },
  {
   "cell_type": "markdown",
   "metadata": {},
   "source": [
    "### 8.Write a Python program to check whether a JSON string contains complex object or not."
   ]
  },
  {
   "cell_type": "code",
   "execution_count": null,
   "metadata": {},
   "outputs": [],
   "source": []
  },
  {
   "cell_type": "markdown",
   "metadata": {},
   "source": [
    "### 9.Write a Python program to access only unique key value of a Python object."
   ]
  },
  {
   "cell_type": "code",
   "execution_count": 48,
   "metadata": {},
   "outputs": [
    {
     "data": {
      "text/plain": [
       "{'age', 'name', 'who'}"
      ]
     },
     "execution_count": 48,
     "metadata": {},
     "output_type": "execute_result"
    }
   ],
   "source": [
    "def get_unique_keys(obj):\n",
    "    unique_keys = set()\n",
    "    if isinstance(obj, dict):\n",
    "        unique_keys.update(obj.keys())\n",
    "    elif isinstance(obj, list):\n",
    "        for item in obj:\n",
    "            unique_keys.update(get_unique_keys(item))\n",
    "    return unique_keys\n",
    "\n",
    "my_obj = {\"age\": 4, \"name\": \"Mars\", \"name\": \"Mars\",  \"who\": \"my_cat\", \"name\": \"Mars\"}\n",
    "get_unique_keys(my_obj)"
   ]
  }
 ],
 "metadata": {
  "kernelspec": {
   "display_name": "Python 3",
   "language": "python",
   "name": "python3"
  },
  "language_info": {
   "codemirror_mode": {
    "name": "ipython",
    "version": 3
   },
   "file_extension": ".py",
   "mimetype": "text/x-python",
   "name": "python",
   "nbconvert_exporter": "python",
   "pygments_lexer": "ipython3",
   "version": "3.9.10"
  }
 },
 "nbformat": 4,
 "nbformat_minor": 2
}
