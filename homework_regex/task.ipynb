{
 "cells": [
  {
   "cell_type": "markdown",
   "metadata": {},
   "source": [
    "### 1 Task: Find all words in a string that start with a capital letter.\n",
    "\t\"Hello world, this is a Regex example with Python.\""
   ]
  },
  {
   "cell_type": "code",
   "execution_count": 1,
   "metadata": {},
   "outputs": [
    {
     "name": "stdout",
     "output_type": "stream",
     "text": [
      "Hello\n",
      "Regex\n",
      "Python.\n"
     ]
    }
   ],
   "source": [
    "my_str = \"Hello world, this is a Regex example with Python.\"\n",
    "words = my_str.split()\n",
    "for word in words:\n",
    "  if word[0].isupper(): \n",
    "   print(word)"
   ]
  },
  {
   "cell_type": "markdown",
   "metadata": {},
   "source": [
    "### 2 Task: Replace all instances of \"is\" with \"was\" in the string.\n",
    "\t\"This is a test. This is only a test.\""
   ]
  },
  {
   "cell_type": "code",
   "execution_count": 5,
   "metadata": {},
   "outputs": [
    {
     "data": {
      "text/plain": [
       "'This was a test. This was only a test.'"
      ]
     },
     "execution_count": 5,
     "metadata": {},
     "output_type": "execute_result"
    }
   ],
   "source": [
    "my_str = \"This is a test. This is only a test.\"\n",
    "my_str = my_str.replace(\" is \", \" was \")\n",
    "my_str"
   ]
  },
  {
   "cell_type": "markdown",
   "metadata": {},
   "source": [
    "###  3 Task: Extract All URLs from a Text\n",
    "\"\"\"\n",
    "Visit https://www.example.com or follow http://example.org.\n",
    "You can also check out https://another-example.com/path?arg=val for more details.\n",
    "\"\"\""
   ]
  },
  {
   "cell_type": "code",
   "execution_count": 11,
   "metadata": {},
   "outputs": [
    {
     "name": "stdout",
     "output_type": "stream",
     "text": [
      "https://www.example.com\n",
      "http://example.org.\n",
      "https://another-example.com/path?arg=val\n"
     ]
    }
   ],
   "source": [
    "my_str = \\\n",
    "\"\"\"\n",
    "Visit https://www.example.com or follow http://example.org.\n",
    "You can also check out https://another-example.com/path?arg=val for more details.\n",
    "\"\"\"\n",
    "words = my_str.split()\n",
    "for word in words:\n",
    "  if \"htt\" in word and \"://\" in word: \n",
    "   print(word)"
   ]
  },
  {
   "cell_type": "markdown",
   "metadata": {},
   "source": [
    "### 4 Task: Find all hashtags in a comment\n",
    "\t\"Loving the #sunset and #nature! #beautiful_day\""
   ]
  },
  {
   "cell_type": "code",
   "execution_count": 12,
   "metadata": {},
   "outputs": [
    {
     "name": "stdout",
     "output_type": "stream",
     "text": [
      "#sunset\n",
      "#nature!\n",
      "#beautiful_day\n"
     ]
    }
   ],
   "source": [
    "my_str = \"Loving the #sunset and #nature! #beautiful_day\"\n",
    "words = my_str.split()\n",
    "for word in words:\n",
    "  if \"#\" in word: \n",
    "   print(word)"
   ]
  },
  {
   "cell_type": "markdown",
   "metadata": {},
   "source": [
    "### 5 Task: Remove the repeated words\n",
    "\t\"This is is a test test string.\""
   ]
  },
  {
   "cell_type": "code",
   "execution_count": 15,
   "metadata": {},
   "outputs": [
    {
     "data": {
      "text/plain": [
       "'This is a test string.'"
      ]
     },
     "execution_count": 15,
     "metadata": {},
     "output_type": "execute_result"
    }
   ],
   "source": [
    "my_str = \"This is is a test test string.\"\n",
    "words = my_str.split()\n",
    "uniq_list = []\n",
    "for word in words:\n",
    "  if word not in uniq_list:\n",
    "    uniq_list.append(word)\n",
    "my_str = ' '.join(uniq_list)\n",
    "my_str"
   ]
  }
 ],
 "metadata": {
  "kernelspec": {
   "display_name": "Python 3",
   "language": "python",
   "name": "python3"
  },
  "language_info": {
   "codemirror_mode": {
    "name": "ipython",
    "version": 3
   },
   "file_extension": ".py",
   "mimetype": "text/x-python",
   "name": "python",
   "nbconvert_exporter": "python",
   "pygments_lexer": "ipython3",
   "version": "3.9.10"
  }
 },
 "nbformat": 4,
 "nbformat_minor": 2
}
