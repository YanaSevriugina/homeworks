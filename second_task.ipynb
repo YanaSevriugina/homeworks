{
 "cells": [
  {
   "cell_type": "code",
   "execution_count": 1,
   "metadata": {},
   "outputs": [],
   "source": [
    "import csv"
   ]
  },
  {
   "cell_type": "markdown",
   "metadata": {},
   "source": [
    "### 1. Write a Python program to read each row from a given csv file and print a list of strings."
   ]
  },
  {
   "cell_type": "code",
   "execution_count": 12,
   "metadata": {},
   "outputs": [],
   "source": [
    "def read_csv_rows(my_file):\n",
    "    with open(my_file, 'r', encoding='utf-8') as csvfile:\n",
    "        reader = csv.reader(csvfile)\n",
    "        for row in reader:\n",
    "            print(row)"
   ]
  },
  {
   "cell_type": "code",
   "execution_count": 13,
   "metadata": {},
   "outputs": [
    {
     "name": "stdout",
     "output_type": "stream",
     "text": [
      "['Имя', 'Возраст', 'Порода']\n",
      "['Барсик', '5', 'Шотландская вислоухая']\n",
      "['Муська', '3', 'Сиамская']\n",
      "['Рекс', '10', 'Немецкая овчарка']\n",
      "['Лабрадор', '7', 'Лабрадор-ретривер']\n",
      "['Боня', '2', 'Йоркширский терьер']\n"
     ]
    }
   ],
   "source": [
    "read_csv_rows(\"my_csv.csv\")"
   ]
  },
  {
   "cell_type": "markdown",
   "metadata": {},
   "source": [
    "### 2. Write a Python program to read a given CSV file having tab delimiter."
   ]
  },
  {
   "cell_type": "code",
   "execution_count": 31,
   "metadata": {},
   "outputs": [],
   "source": [
    "def read_csv_tab_delimiter(my_file):\n",
    "    with open(my_file, 'r', encoding='utf-8') as csvfile:\n",
    "        reader = csv.reader(csvfile, delimiter='\\t')\n",
    "        for row in reader:\n",
    "            print(', '.join(row))"
   ]
  },
  {
   "cell_type": "code",
   "execution_count": 32,
   "metadata": {},
   "outputs": [
    {
     "name": "stdout",
     "output_type": "stream",
     "text": [
      "Имя    Возраст    Порода\n",
      "Барсик    5    Шотландская вислоухая\n",
      "Муська    3    Сиамская\n",
      "Рекс    10    Немецкая овчарка\n",
      "Лабрадор    7    Лабрадор-ретривер\n",
      "Боня    2    Йоркширский терьер\n"
     ]
    }
   ],
   "source": [
    "read_csv_tab_delimiter(\"my_csv_tab.csv\")"
   ]
  },
  {
   "cell_type": "markdown",
   "metadata": {},
   "source": [
    "### 3. Write a Python program to read a given CSV file as a list."
   ]
  },
  {
   "cell_type": "code",
   "execution_count": 35,
   "metadata": {},
   "outputs": [],
   "source": [
    "def read_csv_as_list(my_file):\n",
    "    with open(my_file, 'r', encoding='utf-8') as csvfile:\n",
    "        reader = csv.reader(csvfile)\n",
    "        data = list(reader)\n",
    "        print(data)"
   ]
  },
  {
   "cell_type": "code",
   "execution_count": 36,
   "metadata": {},
   "outputs": [
    {
     "name": "stdout",
     "output_type": "stream",
     "text": [
      "[['Имя', 'Возраст', 'Порода'], ['Барсик', '5', 'Шотландская вислоухая'], ['Муська', '3', 'Сиамская'], ['Рекс', '10', 'Немецкая овчарка'], ['Лабрадор', '7', 'Лабрадор-ретривер'], ['Боня', '2', 'Йоркширский терьер']]\n"
     ]
    }
   ],
   "source": [
    "read_csv_as_list(\"my_csv.csv\")"
   ]
  },
  {
   "cell_type": "markdown",
   "metadata": {},
   "source": [
    "### 4. Write a Python program to read a given CSV file as a dictionary."
   ]
  },
  {
   "cell_type": "code",
   "execution_count": 38,
   "metadata": {},
   "outputs": [],
   "source": [
    "def read_csv_as_dict(my_file):\n",
    "    with open(my_file, 'r', encoding='utf-8') as csvfile:\n",
    "        reader = csv.DictReader(csvfile)\n",
    "        for row in reader:\n",
    "            print(row)"
   ]
  },
  {
   "cell_type": "code",
   "execution_count": 39,
   "metadata": {},
   "outputs": [
    {
     "name": "stdout",
     "output_type": "stream",
     "text": [
      "{'Имя': 'Барсик', 'Возраст': '5', 'Порода': 'Шотландская вислоухая'}\n",
      "{'Имя': 'Муська', 'Возраст': '3', 'Порода': 'Сиамская'}\n",
      "{'Имя': 'Рекс', 'Возраст': '10', 'Порода': 'Немецкая овчарка'}\n",
      "{'Имя': 'Лабрадор', 'Возраст': '7', 'Порода': 'Лабрадор-ретривер'}\n",
      "{'Имя': 'Боня', 'Возраст': '2', 'Порода': 'Йоркширский терьер'}\n"
     ]
    }
   ],
   "source": [
    "read_csv_as_dict(\"my_csv.csv\")"
   ]
  },
  {
   "cell_type": "markdown",
   "metadata": {},
   "source": [
    "### 5. Write a Python program to read a given CSV files with initial spaces after a delimiter and remove those initial spaces."
   ]
  },
  {
   "cell_type": "code",
   "execution_count": 40,
   "metadata": {},
   "outputs": [],
   "source": [
    "def read_csv_with_initial_spaces(my_file):\n",
    "    with open(my_file, 'r', encoding='utf-8') as csvfile:\n",
    "        reader = csv.reader(csvfile, skipinitialspace=True)\n",
    "        for row in reader:\n",
    "            print(row)"
   ]
  },
  {
   "cell_type": "code",
   "execution_count": 41,
   "metadata": {},
   "outputs": [
    {
     "name": "stdout",
     "output_type": "stream",
     "text": [
      "['Имя', 'Возраст', 'Порода']\n",
      "['Барсик', '5', 'Шотландская вислоухая']\n",
      "['Муська', '3', 'Сиамская']\n",
      "['Рекс', '10', 'Немецкая овчарка']\n",
      "['Лабрадор', '7', 'Лабрадор-ретривер']\n",
      "['Боня', '2', 'Йоркширский терьер']\n"
     ]
    }
   ],
   "source": [
    "read_csv_with_initial_spaces(\"my_csv.csv\")"
   ]
  },
  {
   "cell_type": "markdown",
   "metadata": {},
   "source": [
    "### 6. Write a Python program that reads a CSV file and remove initial spaces, quotes around each entry and the delimiter."
   ]
  },
  {
   "cell_type": "code",
   "execution_count": 42,
   "metadata": {},
   "outputs": [],
   "source": [
    "def clean_csv_data(my_file):\n",
    "    with open(my_file, 'r', encoding='utf-8') as csvfile:\n",
    "        reader = csv.reader(csvfile)\n",
    "        for row in reader:\n",
    "            cleaned_row = [entry.strip('\"').strip() for entry in row]\n",
    "            print(cleaned_row)"
   ]
  },
  {
   "cell_type": "code",
   "execution_count": 43,
   "metadata": {},
   "outputs": [
    {
     "name": "stdout",
     "output_type": "stream",
     "text": [
      "['Имя', 'Возраст', 'Порода']\n",
      "['Барсик', '5', 'Шотландская вислоухая']\n",
      "['Муська', '3', 'Сиамская']\n",
      "['Рекс', '10', 'Немецкая овчарка']\n",
      "['Лабрадор', '7', 'Лабрадор-ретривер']\n",
      "['Боня', '2', 'Йоркширский терьер']\n"
     ]
    }
   ],
   "source": [
    "clean_csv_data(\"my_csv.csv\")"
   ]
  },
  {
   "cell_type": "markdown",
   "metadata": {},
   "source": [
    "### 7. Write a Python program to read specific columns of a given CSV file and print the content of the columns."
   ]
  },
  {
   "cell_type": "code",
   "execution_count": 46,
   "metadata": {},
   "outputs": [],
   "source": [
    "def read_specific_columns(my_file, column):\n",
    "    with open(my_file, 'r', encoding='utf-8') as csvfile:\n",
    "        reader = csv.reader(csvfile)\n",
    "        for row in reader:\n",
    "            print([row[i] for i in column])"
   ]
  },
  {
   "cell_type": "code",
   "execution_count": 50,
   "metadata": {},
   "outputs": [
    {
     "name": "stdout",
     "output_type": "stream",
     "text": [
      "['Имя', 'Порода']\n",
      "['Барсик', 'Шотландская вислоухая']\n",
      "['Муська', 'Сиамская']\n",
      "['Рекс', 'Немецкая овчарка']\n",
      "['Лабрадор', 'Лабрадор-ретривер']\n",
      "['Боня', 'Йоркширский терьер']\n"
     ]
    }
   ],
   "source": [
    "read_specific_columns(\"my_csv.csv\", [0,2])"
   ]
  },
  {
   "cell_type": "markdown",
   "metadata": {},
   "source": [
    "### 8. Write a Python program that reads each row of a given csv file and skip the header of the file. Also print the number of rows and the field names."
   ]
  },
  {
   "cell_type": "code",
   "execution_count": 51,
   "metadata": {},
   "outputs": [],
   "source": [
    "def skip_header_and_print_info(my_file):\n",
    "    with open(my_file, 'r', encoding='utf-8') as csvfile:\n",
    "        reader = csv.reader(csvfile)\n",
    "        header = next(reader)\n",
    "        row_count = 0\n",
    "        for row in reader:\n",
    "            row_count += 1\n",
    "            print(row)"
   ]
  },
  {
   "cell_type": "code",
   "execution_count": 52,
   "metadata": {},
   "outputs": [
    {
     "name": "stdout",
     "output_type": "stream",
     "text": [
      "['Барсик', '5', 'Шотландская вислоухая']\n",
      "['Муська', '3', 'Сиамская']\n",
      "['Рекс', '10', 'Немецкая овчарка']\n",
      "['Лабрадор', '7', 'Лабрадор-ретривер']\n",
      "['Боня', '2', 'Йоркширский терьер']\n"
     ]
    }
   ],
   "source": [
    "skip_header_and_print_info(\"my_csv.csv\")"
   ]
  },
  {
   "cell_type": "markdown",
   "metadata": {},
   "source": [
    "### 9. Write a Python program to create an object for writing and iterate over the rows to print the values."
   ]
  },
  {
   "cell_type": "code",
   "execution_count": 60,
   "metadata": {},
   "outputs": [],
   "source": [
    "def write_csv_data(my_file, data):\n",
    "    with open(my_file, 'wt', newline='', encoding='utf-8') as csvfile:\n",
    "        writer = csv.writer(csvfile)\n",
    "        writer.writerow(data)\n",
    "        for i in range(3):\n",
    "            row = (\n",
    "                i + 1,\n",
    "                chr(ord('a') + i),\n",
    "                '01/{:02d}/2019'.format(i + 1),)\n",
    "            writer.writerow(row)"
   ]
  },
  {
   "cell_type": "code",
   "execution_count": 61,
   "metadata": {},
   "outputs": [],
   "source": [
    "write_csv_data(\"my_csv_1.csv\", ('id1', 'id2', 'date'))"
   ]
  },
  {
   "cell_type": "markdown",
   "metadata": {},
   "source": [
    "### 10. Write a Python program to write a Python list of lists to a csv file. After writing the CSV file read the CSV file and display the content."
   ]
  },
  {
   "cell_type": "code",
   "execution_count": 62,
   "metadata": {},
   "outputs": [],
   "source": [
    "def write_list_to_csv(my_file, data):\n",
    "    with open(my_file, 'w', newline='', encoding='utf-8') as csvfile:\n",
    "        writer = csv.writer(csvfile)\n",
    "        writer.writerows(data)\n",
    "\n",
    "    with open(my_file, 'r') as csvfile:\n",
    "        reader = csv.reader(csvfile)\n",
    "        for row in reader:\n",
    "            print(row)"
   ]
  },
  {
   "cell_type": "code",
   "execution_count": 63,
   "metadata": {},
   "outputs": [
    {
     "name": "stdout",
     "output_type": "stream",
     "text": [
      "['i', 'd', '1']\n",
      "['i', 'd', '2']\n",
      "['d', 'a', 't', 'e']\n"
     ]
    }
   ],
   "source": [
    "write_list_to_csv(\"my_csv_2.csv\", ('id1', 'id2', 'date'))"
   ]
  },
  {
   "cell_type": "markdown",
   "metadata": {},
   "source": [
    "### 11. Write a Python program to write a Python dictionary to a csv file. After writing the CSV file read the CSV file and display the content."
   ]
  },
  {
   "cell_type": "code",
   "execution_count": 64,
   "metadata": {},
   "outputs": [],
   "source": [
    "def write_dict_to_csv(my_file, data):\n",
    "    with open(my_file, 'w', newline='', encoding='utf-8') as csvfile:\n",
    "        fieldnames = list(data[0].keys())\n",
    "        writer = csv.DictWriter(csvfile, fieldnames=fieldnames)\n",
    "        writer.writeheader()\n",
    "        writer.writerows(data)\n",
    "\n",
    "    with open(my_file, 'r', encoding='utf-8') as csvfile:\n",
    "        reader = csv.DictReader(csvfile)\n",
    "        for row in reader:\n",
    "            print(row)"
   ]
  },
  {
   "cell_type": "code",
   "execution_count": 66,
   "metadata": {},
   "outputs": [
    {
     "name": "stdout",
     "output_type": "stream",
     "text": [
      "{'age': '4', 'who': 'my_cat', 'name': 'Mars'}\n",
      "{'age': '6', 'who': 'my_dog', 'name': 'Rex'}\n"
     ]
    }
   ],
   "source": [
    "data = [\n",
    "    {\"age\": 4, \"who\": \"my_cat\", \"name\": \"Mars\"},\n",
    "    {\"age\": 6, \"who\": \"my_dog\", \"name\": \"Rex\"}\n",
    "]\n",
    "write_dict_to_csv('my_csv_3.csv', data)"
   ]
  }
 ],
 "metadata": {
  "kernelspec": {
   "display_name": "Python 3",
   "language": "python",
   "name": "python3"
  },
  "language_info": {
   "codemirror_mode": {
    "name": "ipython",
    "version": 3
   },
   "file_extension": ".py",
   "mimetype": "text/x-python",
   "name": "python",
   "nbconvert_exporter": "python",
   "pygments_lexer": "ipython3",
   "version": "3.9.10"
  }
 },
 "nbformat": 4,
 "nbformat_minor": 2
}
